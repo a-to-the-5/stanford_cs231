{
 "cells": [
  {
   "cell_type": "code",
   "execution_count": 1,
   "metadata": {
    "collapsed": true
   },
   "outputs": [],
   "source": [
    "import numpy as np"
   ]
  },
  {
   "cell_type": "code",
   "execution_count": 2,
   "metadata": {
    "collapsed": false
   },
   "outputs": [],
   "source": [
    "arr = np.array([[[1,2,3],[4,5,6]],[[10,20,30],[40,50,60]]])"
   ]
  },
  {
   "cell_type": "code",
   "execution_count": 4,
   "metadata": {
    "collapsed": false
   },
   "outputs": [
    {
     "name": "stdout",
     "output_type": "stream",
     "text": [
      "[[[ 1  2  3]\n",
      "  [ 4  5  6]]\n",
      "\n",
      " [[10 20 30]\n",
      "  [40 50 60]]]\n",
      "(2L, 2L, 3L)\n",
      "6\n",
      "60\n"
     ]
    }
   ],
   "source": [
    "print arr\n",
    "print arr.shape\n",
    "print arr[0,1,2]\n",
    "print arr[1,1,2]"
   ]
  },
  {
   "cell_type": "code",
   "execution_count": 27,
   "metadata": {
    "collapsed": false
   },
   "outputs": [
    {
     "name": "stdout",
     "output_type": "stream",
     "text": [
      "original:  (1L, 10L)\n",
      "reshape:  (10L,)\n",
      "flatten:  (10L,)\n",
      "ravel:  (10L,)\n"
     ]
    }
   ],
   "source": [
    "x = np.ones([10,3])\n",
    "y_pred = np.asarray(np.matrix(np.argmax(x, axis=1)))\n",
    "print \"original: \", y_pred.shape\n",
    "print \"reshape: \", y_pred.reshape((10,)).shape\n",
    "print \"flatten: \", y_pred.flatten().shape\n",
    "print \"ravel: \", y_pred.ravel().shape"
   ]
  }
 ],
 "metadata": {
  "kernelspec": {
   "display_name": "Python 2",
   "language": "python",
   "name": "python2"
  },
  "language_info": {
   "codemirror_mode": {
    "name": "ipython",
    "version": 2
   },
   "file_extension": ".py",
   "mimetype": "text/x-python",
   "name": "python",
   "nbconvert_exporter": "python",
   "pygments_lexer": "ipython2",
   "version": "2.7.11"
  }
 },
 "nbformat": 4,
 "nbformat_minor": 0
}
